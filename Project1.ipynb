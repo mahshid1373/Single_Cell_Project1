{
 "cells": [
  {
   "cell_type": "markdown",
   "metadata": {},
   "source": [
    "## Introduction to Seurat:\n",
    "In the project, you will predominantly use Seurat, an R package that combines many functionalities for the\n",
    "analysis of single-cell data. For the initial steps, you can find helpful documentation here. They will be explicitly\n",
    "mentioned if other packages are required for specific tasks.\n",
    "\n",
    "Before you start programming, you should set up the system as follows:"
   ]
  },
  {
   "cell_type": "markdown",
   "metadata": {},
   "source": [
    "## System-setup:\n",
    "1. Install Conda\n",
    "\n",
    "2. Install all packages using the provided environment.yml file. [Mac users: delete singleR line from the\n",
    ".yml file before running the following command]\n",
    "conda env create -f environment.yml\n",
    "\n",
    "3. Start the conda environment with:\n",
    "conda activate single-cell\n",
    "\n",
    "4. Install CellChat by starting R and install CellChat using devtools\n",
    "devtools::install_github(\"sqjinCellChat\")\n",
    "\n",
    "If you are using a Mac, delete the line for singleR from environment.yml file and manually install\n",
    "SingleR using the following commands in R:\n",
    "```if (!require(\"BiocManager\", quietly = TRUE))\n",
    "install.packages(\"BiocManager\")\n",
    "BiocManager::install(\"SingleR\")```\n",
    "\n",
    "5. If you have problems with Seurat’s clustering functions, please try to downgrade Matrix and spatstat.core\n",
    "packages.\n",
    "\n",
    "`remove.packages(grep(\"spatstat\", installed.packages(), value = T))`\n",
    "\n",
    "`devtools::install_version(\"spatstat\", version = \"2.4.4\")`\n",
    "\n",
    "install.packages(\"Matrix\", \".\", type = \"source\", repos = \"http://R-Forge.R-p6. Test if you have installed all necessary libraries:\n",
    "\n",
    "```suppressPackageStartupMessages({\n",
    "library(dplyr)\n",
    "library(spatstat.core)\n",
    "library(Seurat)\n",
    "library(patchwork)\n",
    "library(DoubletFinder)\n",
    "library(SingleR)\n",
    "library(enrichR)\n",
    "library(CellChat)\n",
    "library(SingleCellExperiment)\n",
    "library(SeuratWrappers)\n",
    "library(tidyverse)\n",
    "library(monocle3)\n",
    "library(celldex)\n",
    "})"
   ]
  },
  {
   "cell_type": "markdown",
   "metadata": {},
   "source": [
    "## Download the data:\n",
    "You can download the dataset for this project under the following link: [https://icbb-share.s3.eucentral-1.amazonaws.com/single-cell-bioinformatics/scbi_ds1.zip](https://icbb-share.s3.eu-central-1.amazonaws.com/single-cell-bioinformatics/scbi_ds1.zip) The file contains the data of four samples:\n",
    "BMMC_D1T1, BMMC_D1T2, CD34_D2T1 and CD34_D3T1, with separate expression matrices for each sample."
   ]
  }
 ],
 "metadata": {
  "kernelspec": {
   "display_name": "R",
   "language": "R",
   "name": "ir"
  },
  "language_info": {
   "codemirror_mode": "r",
   "file_extension": ".r",
   "mimetype": "text/x-r-source",
   "name": "R",
   "pygments_lexer": "r",
   "version": "4.4.2"
  }
 },
 "nbformat": 4,
 "nbformat_minor": 2
}
