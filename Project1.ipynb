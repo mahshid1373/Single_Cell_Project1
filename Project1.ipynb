{
 "cells": [
  {
   "cell_type": "markdown",
   "metadata": {},
   "source": [
    "## Introduction to Seurat:\n",
    "In the project, you will predominantly use Seurat, an R package that combines many functionalities for the\n",
    "analysis of single-cell data. For the initial steps, you can find helpful documentation here. They will be explicitly\n",
    "mentioned if other packages are required for specific tasks.\n",
    "\n",
    "Before you start programming, you should set up the system as follows:"
   ]
  },
  {
   "cell_type": "markdown",
   "metadata": {},
   "source": [
    "## System-setup:\n",
    "1. Install Conda\n",
    "\n",
    "2. Install all packages using the provided environment.yml file. [Mac users: delete singleR line from the\n",
    ".yml file before running the following command]\n",
    "conda env create -f environment.yml\n",
    "\n",
    "3. Start the conda environment with:\n",
    "conda activate single-cell\n",
    "\n",
    "4. Install CellChat by starting R and install CellChat using devtools\n",
    "devtools::install_github(\"sqjinCellChat\")\n",
    "\n",
    "If you are using a Mac, delete the line for singleR from environment.yml file and manually install\n",
    "SingleR using the following commands in R:\n",
    "\n",
    "```R \n",
    "if (!require(\"BiocManager\", quietly = TRUE))\n",
    "\n",
    "install.packages(\"BiocManager\")\n",
    "\n",
    "BiocManager::install(\"SingleR\")\n",
    "```\n",
    "\n",
    "\n",
    "5. If you have problems with Seurat’s clustering functions, please try to downgrade Matrix and spatstat.core\n",
    "packages.\n",
    "\n",
    "`remove.packages(grep(\"spatstat\", installed.packages(), value = T))`\n",
    "\n",
    "`devtools::install_version(\"spatstat\", version = \"2.4.4\")`\n",
    "\n",
    "`install.packages(\"Matrix\", \".\", type = \"source\", repos = \"http://R-Forge.R-p6.`\n",
    "\n",
    " Test if you have installed all necessary libraries:\n",
    "\n",
    "```R \n",
    "suppressPackageStartupMessages({\n",
    "library(dplyr)\n",
    "library(spatstat.core)\n",
    "library(Seurat)\n",
    "library(patchwork)\n",
    "library(DoubletFinder)\n",
    "library(SingleR)\n",
    "library(enrichR)\n",
    "library(CellChat)\n",
    "library(SingleCellExperiment)\n",
    "library(SeuratWrappers)\n",
    "library(tidyverse)\n",
    "library(monocle3)\n",
    "library(celldex)\n",
    "})\n",
    "```"
   ]
  },
  {
   "cell_type": "code",
   "execution_count": 18,
   "metadata": {
    "vscode": {
     "languageId": "r"
    }
   },
   "outputs": [],
   "source": [
    "library(dplyr)\n",
    "# library(spatstat.core)\n",
    "library(Seurat)\n",
    "library(patchwork)\n",
    "library(DoubletFinder)\n",
    "library(SingleR)\n",
    "# library(enrichR)\n",
    "library(CellChat)\n",
    "library(SingleCellExperiment)\n",
    "library(SeuratWrappers)\n",
    "library(tidyverse)\n",
    "# library(monocle3)\n",
    "# library(celldex)"
   ]
  },
  {
   "cell_type": "markdown",
   "metadata": {},
   "source": [
    "## Download the data:\n",
    "You can download the dataset for this project under the following link: [https://icbb-share.s3.eucentral-1.amazonaws.com/single-cell-bioinformatics/scbi_ds1.zip](https://icbb-share.s3.eu-central-1.amazonaws.com/single-cell-bioinformatics/scbi_ds1.zip) The file contains the data of four samples:\n",
    "BMMC_D1T1, BMMC_D1T2, CD34_D2T1 and CD34_D3T1, with separate expression matrices for each sample."
   ]
  },
  {
   "cell_type": "markdown",
   "metadata": {},
   "source": [
    "## Week 1: (5 Points)\n",
    "### 1 Loading the Data (1P)\n",
    "Load the expression matrices from the dataset and construct a Seurat object. You will need to load two files: one\n",
    "containing data on Bone Marrow Mononuclear Cells (BMMC) and the other on CD34+ Enriched Bone Marrow\n",
    "Cells (CD34)."
   ]
  },
  {
   "cell_type": "code",
   "execution_count": 30,
   "metadata": {
    "vscode": {
     "languageId": "r"
    }
   },
   "outputs": [],
   "source": [
    "# Load the data on Bone Marrow Mononuclear Cells (BMMC) Cells\n",
    "BMMC_D1T1 <- readRDS(\"scbi_ds1/GSM4138872_scRNA_BMMC_D1T1.rds\")\n",
    "BMMC_D1T2 <- readRDS(\"scbi_ds1/GSM4138873_scRNA_BMMC_D1T2.rds\")\n",
    "# Load the data on CD34+ Cells\n",
    "CD34_D2T1 <- readRDS(\"scbi_ds1/GSM4138874_scRNA_CD34_D2T1.rds\")\n",
    "CD34_D3T1 <- readRDS(\"scbi_ds1/GSM4138875_scRNA_CD34_D3T1.rds\")\n"
   ]
  },
  {
   "cell_type": "code",
   "execution_count": 31,
   "metadata": {
    "vscode": {
     "languageId": "r"
    }
   },
   "outputs": [],
   "source": [
    "# Create Seurat objects for each sample\n",
    "BMMC_D1T1 <- CreateSeuratObject(BMMC_D1T1, project = \"BMMC_D1T1\")\n",
    "BMMC_D1T2 <- CreateSeuratObject(BMMC_D1T2, project = \"BMMC_D1T2\")\n",
    "CD34_D2T1 <- CreateSeuratObject(CD34_D2T1, project = \"CD34_D2T1\")\n",
    "CD34_D3T1 <- CreateSeuratObject(CD34_D3T1, project = \"CD34_D3T1\")"
   ]
  },
  {
   "cell_type": "markdown",
   "metadata": {},
   "source": [
    "I create a metadata data frame based on the \"Table 1\"."
   ]
  },
  {
   "cell_type": "code",
   "execution_count": 33,
   "metadata": {
    "vscode": {
     "languageId": "r"
    }
   },
   "outputs": [
    {
     "data": {
      "text/html": [
       "<table class=\"dataframe\">\n",
       "<caption>A data.frame: 4 x 4</caption>\n",
       "<thead>\n",
       "\t<tr><th scope=col>Sample</th><th scope=col>Donor</th><th scope=col>Replicate</th><th scope=col>Sex</th></tr>\n",
       "\t<tr><th scope=col>&lt;chr&gt;</th><th scope=col>&lt;chr&gt;</th><th scope=col>&lt;chr&gt;</th><th scope=col>&lt;chr&gt;</th></tr>\n",
       "</thead>\n",
       "<tbody>\n",
       "\t<tr><td>BMMC_D1T1</td><td>D1</td><td>T1</td><td>F</td></tr>\n",
       "\t<tr><td>BMMC_D1T2</td><td>D1</td><td>T2</td><td>F</td></tr>\n",
       "\t<tr><td>CD34_D2T1</td><td>D2</td><td>T1</td><td>M</td></tr>\n",
       "\t<tr><td>CD34_D3T1</td><td>D3</td><td>T1</td><td>F</td></tr>\n",
       "</tbody>\n",
       "</table>\n"
      ],
      "text/latex": [
       "A data.frame: 4 x 4\n",
       "\\begin{tabular}{llll}\n",
       " Sample & Donor & Replicate & Sex\\\\\n",
       " <chr> & <chr> & <chr> & <chr>\\\\\n",
       "\\hline\n",
       "\t BMMC\\_D1T1 & D1 & T1 & F\\\\\n",
       "\t BMMC\\_D1T2 & D1 & T2 & F\\\\\n",
       "\t CD34\\_D2T1 & D2 & T1 & M\\\\\n",
       "\t CD34\\_D3T1 & D3 & T1 & F\\\\\n",
       "\\end{tabular}\n"
      ],
      "text/markdown": [
       "\n",
       "A data.frame: 4 x 4\n",
       "\n",
       "| Sample &lt;chr&gt; | Donor &lt;chr&gt; | Replicate &lt;chr&gt; | Sex &lt;chr&gt; |\n",
       "|---|---|---|---|\n",
       "| BMMC_D1T1 | D1 | T1 | F |\n",
       "| BMMC_D1T2 | D1 | T2 | F |\n",
       "| CD34_D2T1 | D2 | T1 | M |\n",
       "| CD34_D3T1 | D3 | T1 | F |\n",
       "\n"
      ],
      "text/plain": [
       "  Sample    Donor Replicate Sex\n",
       "1 BMMC_D1T1 D1    T1        F  \n",
       "2 BMMC_D1T2 D1    T2        F  \n",
       "3 CD34_D2T1 D2    T1        M  \n",
       "4 CD34_D3T1 D3    T1        F  "
      ]
     },
     "metadata": {},
     "output_type": "display_data"
    }
   ],
   "source": [
    "# Create metadata dataframe\n",
    "metadata <- data.frame(\n",
    "  Sample = c(\"BMMC_D1T1\", \"BMMC_D1T2\", \"CD34_D2T1\", \"CD34_D3T1\"),\n",
    "  Donor = c(\"D1\", \"D1\", \"D2\", \"D3\"),\n",
    "  Replicate = c(\"T1\", \"T2\", \"T1\", \"T1\"),\n",
    "  Sex = c(\"F\", \"F\", \"M\", \"F\")\n",
    ")\n",
    "\n",
    "metadata\n"
   ]
  },
  {
   "cell_type": "markdown",
   "metadata": {},
   "source": [
    "### 2 Create the sample sheet (1P)\n",
    "Question: Label each sample with the corresponding metadata from Table 1."
   ]
  },
  {
   "cell_type": "markdown",
   "metadata": {},
   "source": [
    "I add the metadata information for each sample to the respective Seurat object."
   ]
  },
  {
   "cell_type": "code",
   "execution_count": 34,
   "metadata": {
    "vscode": {
     "languageId": "r"
    }
   },
   "outputs": [],
   "source": [
    "# Add metadata to each Seurat object\n",
    "BMMC_D1T1$Donor <- \"D1\"\n",
    "BMMC_D1T1$Replicate <- \"T1\"\n",
    "BMMC_D1T1$Sex <- \"F\"\n",
    "\n",
    "BMMC_D1T2$Donor <- \"D1\"\n",
    "BMMC_D1T2$Replicate <- \"T2\"\n",
    "BMMC_D1T2$Sex <- \"F\"\n",
    "\n",
    "CD34_D2T1$Donor <- \"D2\"\n",
    "CD34_D2T1$Replicate <- \"T1\"\n",
    "CD34_D2T1$Sex <- \"M\"\n",
    "\n",
    "CD34_D3T1$Donor <- \"D3\"\n",
    "CD34_D3T1$Replicate <- \"T1\"\n",
    "CD34_D3T1$Sex <- \"F\"\n"
   ]
  },
  {
   "cell_type": "markdown",
   "metadata": {},
   "source": [
    "### Add Meta-data (3P)\n",
    "For each sample report the following information:\n",
    "1. How many cells are in each sample?"
   ]
  },
  {
   "cell_type": "code",
   "execution_count": 39,
   "metadata": {
    "vscode": {
     "languageId": "r"
    }
   },
   "outputs": [
    {
     "name": "stdout",
     "output_type": "stream",
     "text": [
      "BMMC_D1T1: 6270 cells\n",
      "BMMC_D1T2: 6332 cells\n",
      "CD34_D2T1: 2424 cells\n",
      "CD34_D3T1: 5752 cells\n"
     ]
    }
   ],
   "source": [
    "cat(\"BMMC_D1T1:\", ncol(BMMC_D1T1), \"cells\\n\")\n",
    "cat(\"BMMC_D1T2:\", ncol(BMMC_D1T2), \"cells\\n\")\n",
    "cat(\"CD34_D2T1:\", ncol(CD34_D2T1), \"cells\\n\")\n",
    "cat(\"CD34_D3T1:\", ncol(CD34_D3T1), \"cells\\n\")"
   ]
  },
  {
   "cell_type": "markdown",
   "metadata": {},
   "source": [
    "2. How many genes are in the expression matrices?"
   ]
  },
  {
   "cell_type": "code",
   "execution_count": 40,
   "metadata": {
    "vscode": {
     "languageId": "r"
    }
   },
   "outputs": [
    {
     "name": "stdout",
     "output_type": "stream",
     "text": [
      "BMMC_D1T1: 20287 genes\n",
      "BMMC_D1T2: 20287 genes\n",
      "CD34_D2T1: 20287 genes\n",
      "CD34_D3T1: 20287 genes\n"
     ]
    }
   ],
   "source": [
    "cat(\"BMMC_D1T1:\", nrow(BMMC_D1T1), \"genes\\n\")\n",
    "cat(\"BMMC_D1T2:\", nrow(BMMC_D1T2), \"genes\\n\")\n",
    "cat(\"CD34_D2T1:\", nrow(CD34_D2T1), \"genes\\n\")\n",
    "cat(\"CD34_D3T1:\", nrow(CD34_D3T1), \"genes\\n\")"
   ]
  },
  {
   "cell_type": "markdown",
   "metadata": {},
   "source": [
    "3. What information is now part of the meta-data of the objects?"
   ]
  },
  {
   "cell_type": "code",
   "execution_count": 41,
   "metadata": {
    "vscode": {
     "languageId": "r"
    }
   },
   "outputs": [
    {
     "data": {
      "text/html": [
       "<table class=\"dataframe\">\n",
       "<caption>A data.frame: 6 x 6</caption>\n",
       "<thead>\n",
       "\t<tr><th></th><th scope=col>orig.ident</th><th scope=col>nCount_RNA</th><th scope=col>nFeature_RNA</th><th scope=col>Donor</th><th scope=col>Replicate</th><th scope=col>Sex</th></tr>\n",
       "\t<tr><th></th><th scope=col>&lt;fct&gt;</th><th scope=col>&lt;dbl&gt;</th><th scope=col>&lt;int&gt;</th><th scope=col>&lt;chr&gt;</th><th scope=col>&lt;chr&gt;</th><th scope=col>&lt;chr&gt;</th></tr>\n",
       "</thead>\n",
       "<tbody>\n",
       "\t<tr><th scope=row>BMMC_D1T1:AAACCCAAGATGCAGC-1</th><td>BMMC</td><td>2433</td><td>1352</td><td>D1</td><td>T1</td><td>F</td></tr>\n",
       "\t<tr><th scope=row>BMMC_D1T1:AAACCCACAAACTCGT-1</th><td>BMMC</td><td>5106</td><td>2001</td><td>D1</td><td>T1</td><td>F</td></tr>\n",
       "\t<tr><th scope=row>BMMC_D1T1:AAACCCACAGTGTACT-1</th><td>BMMC</td><td>3589</td><td>1441</td><td>D1</td><td>T1</td><td>F</td></tr>\n",
       "\t<tr><th scope=row>BMMC_D1T1:AAACCCATCGCTATTT-1</th><td>BMMC</td><td>3603</td><td>1809</td><td>D1</td><td>T1</td><td>F</td></tr>\n",
       "\t<tr><th scope=row>BMMC_D1T1:AAACGAACACCCAATA-1</th><td>BMMC</td><td>2065</td><td>1106</td><td>D1</td><td>T1</td><td>F</td></tr>\n",
       "\t<tr><th scope=row>BMMC_D1T1:AAACGAACAGCAGTCC-1</th><td>BMMC</td><td>2783</td><td>1380</td><td>D1</td><td>T1</td><td>F</td></tr>\n",
       "</tbody>\n",
       "</table>\n"
      ],
      "text/latex": [
       "A data.frame: 6 x 6\n",
       "\\begin{tabular}{r|llllll}\n",
       "  & orig.ident & nCount\\_RNA & nFeature\\_RNA & Donor & Replicate & Sex\\\\\n",
       "  & <fct> & <dbl> & <int> & <chr> & <chr> & <chr>\\\\\n",
       "\\hline\n",
       "\tBMMC\\_D1T1:AAACCCAAGATGCAGC-1 & BMMC & 2433 & 1352 & D1 & T1 & F\\\\\n",
       "\tBMMC\\_D1T1:AAACCCACAAACTCGT-1 & BMMC & 5106 & 2001 & D1 & T1 & F\\\\\n",
       "\tBMMC\\_D1T1:AAACCCACAGTGTACT-1 & BMMC & 3589 & 1441 & D1 & T1 & F\\\\\n",
       "\tBMMC\\_D1T1:AAACCCATCGCTATTT-1 & BMMC & 3603 & 1809 & D1 & T1 & F\\\\\n",
       "\tBMMC\\_D1T1:AAACGAACACCCAATA-1 & BMMC & 2065 & 1106 & D1 & T1 & F\\\\\n",
       "\tBMMC\\_D1T1:AAACGAACAGCAGTCC-1 & BMMC & 2783 & 1380 & D1 & T1 & F\\\\\n",
       "\\end{tabular}\n"
      ],
      "text/markdown": [
       "\n",
       "A data.frame: 6 x 6\n",
       "\n",
       "| <!--/--> | orig.ident &lt;fct&gt; | nCount_RNA &lt;dbl&gt; | nFeature_RNA &lt;int&gt; | Donor &lt;chr&gt; | Replicate &lt;chr&gt; | Sex &lt;chr&gt; |\n",
       "|---|---|---|---|---|---|---|\n",
       "| BMMC_D1T1:AAACCCAAGATGCAGC-1 | BMMC | 2433 | 1352 | D1 | T1 | F |\n",
       "| BMMC_D1T1:AAACCCACAAACTCGT-1 | BMMC | 5106 | 2001 | D1 | T1 | F |\n",
       "| BMMC_D1T1:AAACCCACAGTGTACT-1 | BMMC | 3589 | 1441 | D1 | T1 | F |\n",
       "| BMMC_D1T1:AAACCCATCGCTATTT-1 | BMMC | 3603 | 1809 | D1 | T1 | F |\n",
       "| BMMC_D1T1:AAACGAACACCCAATA-1 | BMMC | 2065 | 1106 | D1 | T1 | F |\n",
       "| BMMC_D1T1:AAACGAACAGCAGTCC-1 | BMMC | 2783 | 1380 | D1 | T1 | F |\n",
       "\n"
      ],
      "text/plain": [
       "                             orig.ident nCount_RNA nFeature_RNA Donor Replicate\n",
       "BMMC_D1T1:AAACCCAAGATGCAGC-1 BMMC       2433       1352         D1    T1       \n",
       "BMMC_D1T1:AAACCCACAAACTCGT-1 BMMC       5106       2001         D1    T1       \n",
       "BMMC_D1T1:AAACCCACAGTGTACT-1 BMMC       3589       1441         D1    T1       \n",
       "BMMC_D1T1:AAACCCATCGCTATTT-1 BMMC       3603       1809         D1    T1       \n",
       "BMMC_D1T1:AAACGAACACCCAATA-1 BMMC       2065       1106         D1    T1       \n",
       "BMMC_D1T1:AAACGAACAGCAGTCC-1 BMMC       2783       1380         D1    T1       \n",
       "                             Sex\n",
       "BMMC_D1T1:AAACCCAAGATGCAGC-1 F  \n",
       "BMMC_D1T1:AAACCCACAAACTCGT-1 F  \n",
       "BMMC_D1T1:AAACCCACAGTGTACT-1 F  \n",
       "BMMC_D1T1:AAACCCATCGCTATTT-1 F  \n",
       "BMMC_D1T1:AAACGAACACCCAATA-1 F  \n",
       "BMMC_D1T1:AAACGAACAGCAGTCC-1 F  "
      ]
     },
     "metadata": {},
     "output_type": "display_data"
    },
    {
     "data": {
      "text/html": [
       "<table class=\"dataframe\">\n",
       "<caption>A data.frame: 6 x 6</caption>\n",
       "<thead>\n",
       "\t<tr><th></th><th scope=col>orig.ident</th><th scope=col>nCount_RNA</th><th scope=col>nFeature_RNA</th><th scope=col>Donor</th><th scope=col>Replicate</th><th scope=col>Sex</th></tr>\n",
       "\t<tr><th></th><th scope=col>&lt;fct&gt;</th><th scope=col>&lt;dbl&gt;</th><th scope=col>&lt;int&gt;</th><th scope=col>&lt;chr&gt;</th><th scope=col>&lt;chr&gt;</th><th scope=col>&lt;chr&gt;</th></tr>\n",
       "</thead>\n",
       "<tbody>\n",
       "\t<tr><th scope=row>BMMC_D1T2:AAACCCACATGGCCAC-1</th><td>BMMC</td><td>4074</td><td>1834</td><td>D1</td><td>T2</td><td>F</td></tr>\n",
       "\t<tr><th scope=row>BMMC_D1T2:AAACCCAGTCCTCATC-1</th><td>BMMC</td><td>1601</td><td> 945</td><td>D1</td><td>T2</td><td>F</td></tr>\n",
       "\t<tr><th scope=row>BMMC_D1T2:AAACCCAGTCGCATTA-1</th><td>BMMC</td><td>2249</td><td>1265</td><td>D1</td><td>T2</td><td>F</td></tr>\n",
       "\t<tr><th scope=row>BMMC_D1T2:AAACCCAGTGGGTCAA-1</th><td>BMMC</td><td>2489</td><td>1325</td><td>D1</td><td>T2</td><td>F</td></tr>\n",
       "\t<tr><th scope=row>BMMC_D1T2:AAACCCATCAGACATC-1</th><td>BMMC</td><td>1871</td><td>1034</td><td>D1</td><td>T2</td><td>F</td></tr>\n",
       "\t<tr><th scope=row>BMMC_D1T2:AAACCCATCATTACGG-1</th><td>BMMC</td><td>1427</td><td> 861</td><td>D1</td><td>T2</td><td>F</td></tr>\n",
       "</tbody>\n",
       "</table>\n"
      ],
      "text/latex": [
       "A data.frame: 6 x 6\n",
       "\\begin{tabular}{r|llllll}\n",
       "  & orig.ident & nCount\\_RNA & nFeature\\_RNA & Donor & Replicate & Sex\\\\\n",
       "  & <fct> & <dbl> & <int> & <chr> & <chr> & <chr>\\\\\n",
       "\\hline\n",
       "\tBMMC\\_D1T2:AAACCCACATGGCCAC-1 & BMMC & 4074 & 1834 & D1 & T2 & F\\\\\n",
       "\tBMMC\\_D1T2:AAACCCAGTCCTCATC-1 & BMMC & 1601 &  945 & D1 & T2 & F\\\\\n",
       "\tBMMC\\_D1T2:AAACCCAGTCGCATTA-1 & BMMC & 2249 & 1265 & D1 & T2 & F\\\\\n",
       "\tBMMC\\_D1T2:AAACCCAGTGGGTCAA-1 & BMMC & 2489 & 1325 & D1 & T2 & F\\\\\n",
       "\tBMMC\\_D1T2:AAACCCATCAGACATC-1 & BMMC & 1871 & 1034 & D1 & T2 & F\\\\\n",
       "\tBMMC\\_D1T2:AAACCCATCATTACGG-1 & BMMC & 1427 &  861 & D1 & T2 & F\\\\\n",
       "\\end{tabular}\n"
      ],
      "text/markdown": [
       "\n",
       "A data.frame: 6 x 6\n",
       "\n",
       "| <!--/--> | orig.ident &lt;fct&gt; | nCount_RNA &lt;dbl&gt; | nFeature_RNA &lt;int&gt; | Donor &lt;chr&gt; | Replicate &lt;chr&gt; | Sex &lt;chr&gt; |\n",
       "|---|---|---|---|---|---|---|\n",
       "| BMMC_D1T2:AAACCCACATGGCCAC-1 | BMMC | 4074 | 1834 | D1 | T2 | F |\n",
       "| BMMC_D1T2:AAACCCAGTCCTCATC-1 | BMMC | 1601 |  945 | D1 | T2 | F |\n",
       "| BMMC_D1T2:AAACCCAGTCGCATTA-1 | BMMC | 2249 | 1265 | D1 | T2 | F |\n",
       "| BMMC_D1T2:AAACCCAGTGGGTCAA-1 | BMMC | 2489 | 1325 | D1 | T2 | F |\n",
       "| BMMC_D1T2:AAACCCATCAGACATC-1 | BMMC | 1871 | 1034 | D1 | T2 | F |\n",
       "| BMMC_D1T2:AAACCCATCATTACGG-1 | BMMC | 1427 |  861 | D1 | T2 | F |\n",
       "\n"
      ],
      "text/plain": [
       "                             orig.ident nCount_RNA nFeature_RNA Donor Replicate\n",
       "BMMC_D1T2:AAACCCACATGGCCAC-1 BMMC       4074       1834         D1    T2       \n",
       "BMMC_D1T2:AAACCCAGTCCTCATC-1 BMMC       1601        945         D1    T2       \n",
       "BMMC_D1T2:AAACCCAGTCGCATTA-1 BMMC       2249       1265         D1    T2       \n",
       "BMMC_D1T2:AAACCCAGTGGGTCAA-1 BMMC       2489       1325         D1    T2       \n",
       "BMMC_D1T2:AAACCCATCAGACATC-1 BMMC       1871       1034         D1    T2       \n",
       "BMMC_D1T2:AAACCCATCATTACGG-1 BMMC       1427        861         D1    T2       \n",
       "                             Sex\n",
       "BMMC_D1T2:AAACCCACATGGCCAC-1 F  \n",
       "BMMC_D1T2:AAACCCAGTCCTCATC-1 F  \n",
       "BMMC_D1T2:AAACCCAGTCGCATTA-1 F  \n",
       "BMMC_D1T2:AAACCCAGTGGGTCAA-1 F  \n",
       "BMMC_D1T2:AAACCCATCAGACATC-1 F  \n",
       "BMMC_D1T2:AAACCCATCATTACGG-1 F  "
      ]
     },
     "metadata": {},
     "output_type": "display_data"
    },
    {
     "data": {
      "text/html": [
       "<table class=\"dataframe\">\n",
       "<caption>A data.frame: 6 x 6</caption>\n",
       "<thead>\n",
       "\t<tr><th></th><th scope=col>orig.ident</th><th scope=col>nCount_RNA</th><th scope=col>nFeature_RNA</th><th scope=col>Donor</th><th scope=col>Replicate</th><th scope=col>Sex</th></tr>\n",
       "\t<tr><th></th><th scope=col>&lt;fct&gt;</th><th scope=col>&lt;dbl&gt;</th><th scope=col>&lt;int&gt;</th><th scope=col>&lt;chr&gt;</th><th scope=col>&lt;chr&gt;</th><th scope=col>&lt;chr&gt;</th></tr>\n",
       "</thead>\n",
       "<tbody>\n",
       "\t<tr><th scope=row>CD34_D2T1:AAACCTGAGTATCGAA-1</th><td>CD34</td><td>8303</td><td>3187</td><td>D2</td><td>T1</td><td>M</td></tr>\n",
       "\t<tr><th scope=row>CD34_D2T1:AAACCTGAGTCGTTTG-1</th><td>CD34</td><td>3917</td><td>1787</td><td>D2</td><td>T1</td><td>M</td></tr>\n",
       "\t<tr><th scope=row>CD34_D2T1:AAACCTGGTTCCACAA-1</th><td>CD34</td><td>6023</td><td>2552</td><td>D2</td><td>T1</td><td>M</td></tr>\n",
       "\t<tr><th scope=row>CD34_D2T1:AAACGGGAGCTTCGCG-1</th><td>CD34</td><td>4493</td><td>2191</td><td>D2</td><td>T1</td><td>M</td></tr>\n",
       "\t<tr><th scope=row>CD34_D2T1:AAACGGGAGGGAGTAA-1</th><td>CD34</td><td>5190</td><td>2322</td><td>D2</td><td>T1</td><td>M</td></tr>\n",
       "\t<tr><th scope=row>CD34_D2T1:AAACGGGAGTTACGGG-1</th><td>CD34</td><td>4634</td><td>2152</td><td>D2</td><td>T1</td><td>M</td></tr>\n",
       "</tbody>\n",
       "</table>\n"
      ],
      "text/latex": [
       "A data.frame: 6 x 6\n",
       "\\begin{tabular}{r|llllll}\n",
       "  & orig.ident & nCount\\_RNA & nFeature\\_RNA & Donor & Replicate & Sex\\\\\n",
       "  & <fct> & <dbl> & <int> & <chr> & <chr> & <chr>\\\\\n",
       "\\hline\n",
       "\tCD34\\_D2T1:AAACCTGAGTATCGAA-1 & CD34 & 8303 & 3187 & D2 & T1 & M\\\\\n",
       "\tCD34\\_D2T1:AAACCTGAGTCGTTTG-1 & CD34 & 3917 & 1787 & D2 & T1 & M\\\\\n",
       "\tCD34\\_D2T1:AAACCTGGTTCCACAA-1 & CD34 & 6023 & 2552 & D2 & T1 & M\\\\\n",
       "\tCD34\\_D2T1:AAACGGGAGCTTCGCG-1 & CD34 & 4493 & 2191 & D2 & T1 & M\\\\\n",
       "\tCD34\\_D2T1:AAACGGGAGGGAGTAA-1 & CD34 & 5190 & 2322 & D2 & T1 & M\\\\\n",
       "\tCD34\\_D2T1:AAACGGGAGTTACGGG-1 & CD34 & 4634 & 2152 & D2 & T1 & M\\\\\n",
       "\\end{tabular}\n"
      ],
      "text/markdown": [
       "\n",
       "A data.frame: 6 x 6\n",
       "\n",
       "| <!--/--> | orig.ident &lt;fct&gt; | nCount_RNA &lt;dbl&gt; | nFeature_RNA &lt;int&gt; | Donor &lt;chr&gt; | Replicate &lt;chr&gt; | Sex &lt;chr&gt; |\n",
       "|---|---|---|---|---|---|---|\n",
       "| CD34_D2T1:AAACCTGAGTATCGAA-1 | CD34 | 8303 | 3187 | D2 | T1 | M |\n",
       "| CD34_D2T1:AAACCTGAGTCGTTTG-1 | CD34 | 3917 | 1787 | D2 | T1 | M |\n",
       "| CD34_D2T1:AAACCTGGTTCCACAA-1 | CD34 | 6023 | 2552 | D2 | T1 | M |\n",
       "| CD34_D2T1:AAACGGGAGCTTCGCG-1 | CD34 | 4493 | 2191 | D2 | T1 | M |\n",
       "| CD34_D2T1:AAACGGGAGGGAGTAA-1 | CD34 | 5190 | 2322 | D2 | T1 | M |\n",
       "| CD34_D2T1:AAACGGGAGTTACGGG-1 | CD34 | 4634 | 2152 | D2 | T1 | M |\n",
       "\n"
      ],
      "text/plain": [
       "                             orig.ident nCount_RNA nFeature_RNA Donor Replicate\n",
       "CD34_D2T1:AAACCTGAGTATCGAA-1 CD34       8303       3187         D2    T1       \n",
       "CD34_D2T1:AAACCTGAGTCGTTTG-1 CD34       3917       1787         D2    T1       \n",
       "CD34_D2T1:AAACCTGGTTCCACAA-1 CD34       6023       2552         D2    T1       \n",
       "CD34_D2T1:AAACGGGAGCTTCGCG-1 CD34       4493       2191         D2    T1       \n",
       "CD34_D2T1:AAACGGGAGGGAGTAA-1 CD34       5190       2322         D2    T1       \n",
       "CD34_D2T1:AAACGGGAGTTACGGG-1 CD34       4634       2152         D2    T1       \n",
       "                             Sex\n",
       "CD34_D2T1:AAACCTGAGTATCGAA-1 M  \n",
       "CD34_D2T1:AAACCTGAGTCGTTTG-1 M  \n",
       "CD34_D2T1:AAACCTGGTTCCACAA-1 M  \n",
       "CD34_D2T1:AAACGGGAGCTTCGCG-1 M  \n",
       "CD34_D2T1:AAACGGGAGGGAGTAA-1 M  \n",
       "CD34_D2T1:AAACGGGAGTTACGGG-1 M  "
      ]
     },
     "metadata": {},
     "output_type": "display_data"
    },
    {
     "data": {
      "text/html": [
       "<table class=\"dataframe\">\n",
       "<caption>A data.frame: 6 x 6</caption>\n",
       "<thead>\n",
       "\t<tr><th></th><th scope=col>orig.ident</th><th scope=col>nCount_RNA</th><th scope=col>nFeature_RNA</th><th scope=col>Donor</th><th scope=col>Replicate</th><th scope=col>Sex</th></tr>\n",
       "\t<tr><th></th><th scope=col>&lt;fct&gt;</th><th scope=col>&lt;dbl&gt;</th><th scope=col>&lt;int&gt;</th><th scope=col>&lt;chr&gt;</th><th scope=col>&lt;chr&gt;</th><th scope=col>&lt;chr&gt;</th></tr>\n",
       "</thead>\n",
       "<tbody>\n",
       "\t<tr><th scope=row>CD34_D3T1:AAACCTGAGAAGGGTA-1</th><td>CD34</td><td>1419</td><td> 816</td><td>D3</td><td>T1</td><td>F</td></tr>\n",
       "\t<tr><th scope=row>CD34_D3T1:AAACCTGAGACAAAGG-1</th><td>CD34</td><td>2470</td><td>1360</td><td>D3</td><td>T1</td><td>F</td></tr>\n",
       "\t<tr><th scope=row>CD34_D3T1:AAACCTGAGGCATGTG-1</th><td>CD34</td><td>3909</td><td>1826</td><td>D3</td><td>T1</td><td>F</td></tr>\n",
       "\t<tr><th scope=row>CD34_D3T1:AAACCTGAGGGCTCTC-1</th><td>CD34</td><td>2894</td><td>1527</td><td>D3</td><td>T1</td><td>F</td></tr>\n",
       "\t<tr><th scope=row>CD34_D3T1:AAACCTGCAAGTAGTA-1</th><td>CD34</td><td>3775</td><td>1923</td><td>D3</td><td>T1</td><td>F</td></tr>\n",
       "\t<tr><th scope=row>CD34_D3T1:AAACCTGCACAGTCGC-1</th><td>CD34</td><td>3094</td><td>1638</td><td>D3</td><td>T1</td><td>F</td></tr>\n",
       "</tbody>\n",
       "</table>\n"
      ],
      "text/latex": [
       "A data.frame: 6 x 6\n",
       "\\begin{tabular}{r|llllll}\n",
       "  & orig.ident & nCount\\_RNA & nFeature\\_RNA & Donor & Replicate & Sex\\\\\n",
       "  & <fct> & <dbl> & <int> & <chr> & <chr> & <chr>\\\\\n",
       "\\hline\n",
       "\tCD34\\_D3T1:AAACCTGAGAAGGGTA-1 & CD34 & 1419 &  816 & D3 & T1 & F\\\\\n",
       "\tCD34\\_D3T1:AAACCTGAGACAAAGG-1 & CD34 & 2470 & 1360 & D3 & T1 & F\\\\\n",
       "\tCD34\\_D3T1:AAACCTGAGGCATGTG-1 & CD34 & 3909 & 1826 & D3 & T1 & F\\\\\n",
       "\tCD34\\_D3T1:AAACCTGAGGGCTCTC-1 & CD34 & 2894 & 1527 & D3 & T1 & F\\\\\n",
       "\tCD34\\_D3T1:AAACCTGCAAGTAGTA-1 & CD34 & 3775 & 1923 & D3 & T1 & F\\\\\n",
       "\tCD34\\_D3T1:AAACCTGCACAGTCGC-1 & CD34 & 3094 & 1638 & D3 & T1 & F\\\\\n",
       "\\end{tabular}\n"
      ],
      "text/markdown": [
       "\n",
       "A data.frame: 6 x 6\n",
       "\n",
       "| <!--/--> | orig.ident &lt;fct&gt; | nCount_RNA &lt;dbl&gt; | nFeature_RNA &lt;int&gt; | Donor &lt;chr&gt; | Replicate &lt;chr&gt; | Sex &lt;chr&gt; |\n",
       "|---|---|---|---|---|---|---|\n",
       "| CD34_D3T1:AAACCTGAGAAGGGTA-1 | CD34 | 1419 |  816 | D3 | T1 | F |\n",
       "| CD34_D3T1:AAACCTGAGACAAAGG-1 | CD34 | 2470 | 1360 | D3 | T1 | F |\n",
       "| CD34_D3T1:AAACCTGAGGCATGTG-1 | CD34 | 3909 | 1826 | D3 | T1 | F |\n",
       "| CD34_D3T1:AAACCTGAGGGCTCTC-1 | CD34 | 2894 | 1527 | D3 | T1 | F |\n",
       "| CD34_D3T1:AAACCTGCAAGTAGTA-1 | CD34 | 3775 | 1923 | D3 | T1 | F |\n",
       "| CD34_D3T1:AAACCTGCACAGTCGC-1 | CD34 | 3094 | 1638 | D3 | T1 | F |\n",
       "\n"
      ],
      "text/plain": [
       "                             orig.ident nCount_RNA nFeature_RNA Donor Replicate\n",
       "CD34_D3T1:AAACCTGAGAAGGGTA-1 CD34       1419        816         D3    T1       \n",
       "CD34_D3T1:AAACCTGAGACAAAGG-1 CD34       2470       1360         D3    T1       \n",
       "CD34_D3T1:AAACCTGAGGCATGTG-1 CD34       3909       1826         D3    T1       \n",
       "CD34_D3T1:AAACCTGAGGGCTCTC-1 CD34       2894       1527         D3    T1       \n",
       "CD34_D3T1:AAACCTGCAAGTAGTA-1 CD34       3775       1923         D3    T1       \n",
       "CD34_D3T1:AAACCTGCACAGTCGC-1 CD34       3094       1638         D3    T1       \n",
       "                             Sex\n",
       "CD34_D3T1:AAACCTGAGAAGGGTA-1 F  \n",
       "CD34_D3T1:AAACCTGAGACAAAGG-1 F  \n",
       "CD34_D3T1:AAACCTGAGGCATGTG-1 F  \n",
       "CD34_D3T1:AAACCTGAGGGCTCTC-1 F  \n",
       "CD34_D3T1:AAACCTGCAAGTAGTA-1 F  \n",
       "CD34_D3T1:AAACCTGCACAGTCGC-1 F  "
      ]
     },
     "metadata": {},
     "output_type": "display_data"
    }
   ],
   "source": [
    "# View metadata\n",
    "head(BMMC_D1T1@meta.data)\n",
    "head(BMMC_D1T2@meta.data)\n",
    "head(CD34_D2T1@meta.data)\n",
    "head(CD34_D3T1@meta.data)"
   ]
  },
  {
   "cell_type": "markdown",
   "metadata": {},
   "source": [
    "## Week 2: (15 Points)\n",
    "### 4 Preprocessing (10P)\n",
    "### 4.1 Preprocessing (7P)\n",
    "Bring the following preprocessing steps into the correct order and perform them on your data.\n",
    "1. Filtering\n",
    "2. Doublet removal (DoubletFinder)\n",
    "3. Normalization\n",
    "4. Feature Selection\n",
    "Which steps do you perform before and after merging (task: 4.2) and why?\n",
    "Filtering: Perform Filtering on the data to remove low-quality cells. Name the parameters that have been used\n",
    "for filtering. Argue why you have used them and how you have chosen the cut-off parameters.\n",
    "Doublet-Removal with DoubletFinder: Estimate the optimal value for pK and perform the Doublet Detection.\n",
    "Explain why we perform doublet removal.\n",
    "Normalization and Feature Selection: Perform Normalization and Feature Selection on your data. Which\n",
    "Normalization method is used by the"
   ]
  },
  {
   "cell_type": "markdown",
   "metadata": {},
   "source": [
    "#### Answer\n",
    "Step 1: Filtering\n",
    "\n",
    "Filtering is typically done to remove low-quality cells based on criteria such as:\n",
    "\n",
    "Minimum number of genes detected per cell to filter out low-quality cells or empty droplets.\n",
    "\n",
    "Maximum number of genes to remove potential doublets or highly stressed cells.\n",
    "\n",
    "Percentage of mitochondrial genes to filter out dead or damaged cells.\n",
    "\n",
    "Here’s how to apply these filters in Seurat:"
   ]
  },
  {
   "cell_type": "code",
   "execution_count": 48,
   "metadata": {
    "vscode": {
     "languageId": "r"
    }
   },
   "outputs": [],
   "source": [
    "# Define filtering criteria\n",
    "min_genes <- 200  # Minimum number of genes for a cell to be considered valid\n",
    "max_genes <- 2500  # Maximum number of genes to filter out potential doublets or stressed cells\n",
    "\n",
    "# Filter cells based on number of genes\n",
    "BMMC_D1T1 <- subset(BMMC_D1T1, subset = nFeature_RNA > min_genes & nFeature_RNA < max_genes)\n",
    "BMMC_D1T2 <- subset(BMMC_D1T2, subset = nFeature_RNA > min_genes & nFeature_RNA < max_genes)\n",
    "CD34_D2T1 <- subset(CD34_D2T1, subset = nFeature_RNA > min_genes & nFeature_RNA < max_genes)\n",
    "CD34_D3T1 <- subset(CD34_D3T1, subset = nFeature_RNA > min_genes & nFeature_RNA < max_genes)\n"
   ]
  },
  {
   "cell_type": "markdown",
   "metadata": {},
   "source": [
    "**Name the parameters that have been used for filtering.**\n",
    "nFeature_RNA\n",
    "\n",
    "**Argue why you have used them and how you have chosen the cut-off parameters**\n",
    "Because this is a feauture that we have access on that. TODO TODOTODOTODOTODOTODOTODOTODOTODOTODOTODOTODOTODO"
   ]
  },
  {
   "cell_type": "markdown",
   "metadata": {},
   "source": [
    "***"
   ]
  },
  {
   "cell_type": "markdown",
   "metadata": {},
   "source": [
    "Step 2: Doublet Removal (DoubletFinder)\n",
    "\n",
    "Doublets are cells that contain RNA from multiple cells, which can distort the analysis. DoubletFinder estimates the probability of doublets in single-cell RNA-seq data.\n",
    "\n",
    "To use DoubletFinder, first perform principal component analysis (PCA), then estimate the pK value (optimal parameter) and remove doublets:"
   ]
  },
  {
   "cell_type": "code",
   "execution_count": 51,
   "metadata": {
    "vscode": {
     "languageId": "r"
    }
   },
   "outputs": [
    {
     "name": "stderr",
     "output_type": "stream",
     "text": [
      "Centering and scaling data matrix\n",
      "\n",
      "PC_ 1 \n",
      "Positive:  CD3E, LTB, CD3D, NPM1, KLF2, IL32, IL7R, CD69, CD7, CD3G \n",
      "\t   HSPA8, TCF7, PTMA, GYPC, CD27, SPOCK2, PIK3IP1, RHOH, LEF1, CD2 \n",
      "\t   CD247, IFITM1, ARL4C, CD81, CCR7, CD6, GZMM, BCL11B, FLT3LG, ZAP70 \n",
      "Negative:  CST3, LYZ, S100A9, S100A8, FCN1, MNDA, VCAN, TYROBP, GRN, MS4A6A \n",
      "\t   S100A12, FCER1G, LGALS1, CD14, CSTA, PLAUR, S100A11, TYMP, CYBB, SERPINA1 \n",
      "\t   LST1, CFD, PSAP, SPI1, CTSS, CEBPD, APLP2, CD68, CD36, MPEG1 \n",
      "PC_ 2 \n",
      "Positive:  JUNB, CD3E, CD3D, IL32, S100A6, CD7, CD3G, IL7R, S100A10, KLF2 \n",
      "\t   TNFAIP3, COTL1, SLC2A3, LTB, CD2, ARL4C, SPOCK2, CD27, S100A4, TCF7 \n",
      "\t   CD247, PIK3IP1, GZMM, CD6, IFITM1, ANXA1, FTH1, DUSP2, BCL11B, DOK2 \n",
      "Negative:  STMN1, MZB1, SOX4, SPIB, TCF4, IGLL1, FAM129C, VPREB3, HLA-DRA, CD79B \n",
      "\t   BCL7A, TYMS, VPREB1, CD79A, YBX3, CD74, PLD4, MYBL2, IRF4, TSPAN13 \n",
      "\t   ITM2C, IGLL5, HLA-DPB1, TCL1A, MME, CXXC5, CD9, NREP, HLA-DPA1, TUBB \n",
      "PC_ 3 \n",
      "Positive:  LILRA4, SPIB, HLA-DPA1, HLA-DQA1, CD74, IL3RA, HLA-DQB1, FAM129C, HLA-DRB5, SERPINF1 \n",
      "\t   HLA-DPB1, CLEC4C, MZB1, TCF4, HLA-DRA, SMPD3, CCDC50, SCT, CYB561A3, PTCRA \n",
      "\t   NCF1, IRF8, HLA-DRB1, CD79A, TSPAN13, DNASE1L3, DERL3, HLA-DMB, HLA-DMA, FCRLA \n",
      "Negative:  TOP2A, RRM2, NUSAP1, TYMS, BIRC5, CDK1, MKI67, UBE2C, CENPF, AHSP \n",
      "\t   PCNA, TK1, ZWINT, CA1, ASPM, CCNA2, AZU1, TPX2, CENPU, CCNB2 \n",
      "\t   MPO, CDT1, TUBB, HBD, PRC1, AURKB, ALAS2, PTTG1, DLGAP5, GYPA \n",
      "PC_ 4 \n",
      "Positive:  LILRA4, GZMB, SMPD3, SCT, CLEC4C, CLIC3, PTCRA, IL3RA, PTPRS, SHD \n",
      "\t   SERPINF1, TPM2, SCAMP5, DAB2, PACSIN1, ZFAT, GAS6, LRRC26, CIB2, C12orf75 \n",
      "\t   FCER1A, UGCG, SLC15A4, DERL3, PPM1J, LGMN, MAP1A, SCN9A, LINC00996, LILRB4 \n",
      "Negative:  CD79B, CD79A, VPREB3, IGLL5, TCL1A, CD19, CD72, CD9, MS4A1, YBX3 \n",
      "\t   DTX1, POU2AF1, PAX5, FCRLA, MME, CD22, EBF1, NEIL1, VPREB1, PCDH9 \n",
      "\t   LINC00926, FCRL1, PDLIM1, HRK, C16orf74, BACH2, FCER2, BANK1, RCSD1, LHPP \n",
      "PC_ 5 \n",
      "Positive:  NKG7, CST7, GZMA, KLRD1, CTSW, MATK, HOPX, PRF1, PRSS57, KLRF1 \n",
      "\t   CCL5, ACTG1, GNLY, CCL4, ELANE, CMC1, AZU1, XCL2, MPO, PRTN3 \n",
      "\t   CTSG, GZMH, IL2RB, CD160, FGFBP2, MS4A3, IGFBP7, IGLL1, PTMA, CLEC11A \n",
      "Negative:  AHSP, HBD, ALAS2, GYPA, HBM, GYPB, CA1, RHAG, SELENBP1, TMEM56 \n",
      "\t   SLC4A1, HBA2, HBA1, RHCE, HBB, HEMGN, CA2, ANK1, HBQ1, KLF1 \n",
      "\t   TSPO2, OSBP2, GATA1, SPTA1, SOX6, TRIM10, EPB42, SLC6A8, SNCA, KEL \n",
      "\n"
     ]
    },
    {
     "ename": "ERROR",
     "evalue": "Error in paramSweep_v3(BMMC_D1T1, PCs = 1:10): could not find function \"paramSweep_v3\"\n",
     "output_type": "error",
     "traceback": [
      "Error in paramSweep_v3(BMMC_D1T1, PCs = 1:10): could not find function \"paramSweep_v3\"\nTraceback:\n"
     ]
    }
   ],
   "source": [
    "################################################# Sample BMMC_D1T1 #################################################\n",
    "Print(\"------------------------------ Sample BMMC_D1T1 ------------------------------\")\n",
    "\n",
    "BMMC_D1T1 <- NormalizeData(BMMC_D1T1)\n",
    "BMMC_D1T1 <- FindVariableFeatures(BMMC_D1T1)\n",
    "BMMC_D1T1 <- ScaleData(BMMC_D1T1)\n",
    "BMMC_D1T1 <- RunPCA(BMMC_D1T1)\n",
    "\n",
    "# Estimation of pK value\n",
    "sweep_res <- paramSweep_v3(BMMC_D1T1, PCs = 1:10)\n",
    "sweep_stats <- summarizeSweep(sweep_res, GT = FALSE)\n",
    "pk_optimal <- find.pK(sweep_stats)  # Choose the pK with maximum BCmetric value\n",
    "\n",
    "# Define parameters for DoubletFinder\n",
    "pK_value <- as.numeric(pk_optimal$pK[which.max(pk_optimal$BCmetric)])  # Replace with calculated optimal value\n",
    "nExp_poi <- round(0.05 * ncol(BMMC_D1T1))  # A typical rate is 5%, so we calculate it as 5% of the total number of cells in the sample.\n",
    "\n",
    "# Run DoubletFinder\n",
    "BMMC_D1T1 <- doubletFinder_v3(BMMC_D1T1, PCs = 1:10, pN = 0.25, pK = pK_value, nExp = nExp_poi)\n",
    "\n",
    "\n",
    "################################################# Sample BMMC_D1T2 #################################################\n",
    "Print(\"------------------------------ Sample BMMC_D1T2 ------------------------------\")\n",
    "\n",
    "BMMC_D1T2 <- NormalizeData(BMMC_D1T2)\n",
    "BMMC_D1T2 <- FindVariableFeatures(BMMC_D1T2)\n",
    "BMMC_D1T2 <- ScaleData(BMMC_D1T2)\n",
    "BMMC_D1T2 <- RunPCA(BMMC_D1T2)\n",
    "\n",
    "# Estimation of pK value\n",
    "sweep_res <- paramSweep_v3(BMMC_D1T2, PCs = 1:10)\n",
    "sweep_stats <- summarizeSweep(sweep_res, GT = FALSE)\n",
    "pk_optimal <- find.pK(sweep_stats)  # Choose the pK with maximum BCmetric value\n",
    "\n",
    "# Define parameters for DoubletFinder\n",
    "pK_value <- as.numeric(pk_optimal$pK[which.max(pk_optimal$BCmetric)])  # Replace with calculated optimal value\n",
    "nExp_poi <- round(0.05 * ncol(BMMC_D1T2))  # A typical rate is 5%, so we calculate it as 5% of the total number of cells in the sample.\n",
    "\n",
    "# Run DoubletFinder\n",
    "BMMC_D1T2 <- doubletFinder_v3(BMMC_D1T2, PCs = 1:10, pN = 0.25, pK = pK_value, nExp = nExp_poi)\n",
    "\n",
    "################################################# Sample CD34_D2T1 #################################################\n",
    "Print(\"------------------------------ Sample CD34_D2T1 ------------------------------\")\n",
    "\n",
    "CD34_D2T1 <- NormalizeData(CD34_D2T1)\n",
    "CD34_D2T1 <- FindVariableFeatures(CD34_D2T1)\n",
    "CD34_D2T1 <- ScaleData(CD34_D2T1)\n",
    "CD34_D2T1 <- RunPCA(CD34_D2T1)\n",
    "\n",
    "# Estimation of pK value\n",
    "sweep_res <- paramSweep_v3(CD34_D2T1, PCs = 1:10)\n",
    "sweep_stats <- summarizeSweep(sweep_res, GT = FALSE)\n",
    "pk_optimal <- find.pK(sweep_stats)  # Choose the pK with maximum BCmetric value\n",
    "\n",
    "# Define parameters for DoubletFinder\n",
    "pK_value <- as.numeric(pk_optimal$pK[which.max(pk_optimal$BCmetric)])  # Replace with calculated optimal value\n",
    "nExp_poi <- round(0.05 * ncol(CD34_D2T1))  # A typical rate is 5%, so we calculate it as 5% of the total number of cells in the sample.\n",
    "\n",
    "# Run DoubletFinder\n",
    "CD34_D2T1 <- doubletFinder_v3(CD34_D2T1, PCs = 1:10, pN = 0.25, pK = pK_value, nExp = nExp_poi)\n",
    "\n",
    "################################################# Sample CD34_D3T1 #################################################\n",
    "Print(\"------------------------------ Sample CD34_D3T1 ------------------------------\")\n",
    "\n",
    "CD34_D3T1 <- NormalizeData(CD34_D3T1)\n",
    "CD34_D3T1 <- FindVariableFeatures(CD34_D3T1)\n",
    "CD34_D3T1 <- ScaleData(CD34_D3T1)\n",
    "CD34_D3T1 <- RunPCA(CD34_D3T1)\n",
    "\n",
    "# Estimation of pK value\n",
    "sweep_res <- paramSweep_v3(CD34_D3T1, PCs = 1:10)\n",
    "sweep_stats <- summarizeSweep(sweep_res, GT = FALSE)\n",
    "pk_optimal <- find.pK(sweep_stats)  # Choose the pK with maximum BCmetric value\n",
    "\n",
    "# Define parameters for DoubletFinder\n",
    "pK_value <- as.numeric(pk_optimal$pK[which.max(pk_optimal$BCmetric)])  # Replace with calculated optimal value\n",
    "nExp_poi <- round(0.05 * ncol(CD34_D3T1))  # A typical rate is 5%, so we calculate it as 5% of the total number of cells in the sample.\n",
    "\n",
    "# Run DoubletFinder\n",
    "CD34_D3T1 <- doubletFinder_v3(CD34_D3T1, PCs = 1:10, pN = 0.25, pK = pK_value, nExp = nExp_poi)\n",
    "\n"
   ]
  },
  {
   "cell_type": "markdown",
   "metadata": {},
   "source": [
    "**Explain why we perform doublet removal?**\n",
    "These doublets can confuse the analysis because they contain mixed RNA from different cells. DoubletFinder is a tool designed to identify and remove these doublets from your dataset."
   ]
  },
  {
   "cell_type": "markdown",
   "metadata": {},
   "source": [
    "**Which steps do you perform before and after merging (task: 4.2) and why?**\n",
    "\n",
    "Filtering and Doublet Removal are performed on each individual dataset before merging to ensure data quality. \n",
    "\n",
    "Normalization and Feature Selection can be performed after merging to standardize expression across the combined dataset. This sequence helps avoid introducing artifacts due to batch effects or low-quality cells in merged data."
   ]
  },
  {
   "cell_type": "markdown",
   "metadata": {},
   "source": [
    "***"
   ]
  },
  {
   "cell_type": "markdown",
   "metadata": {},
   "source": [
    "Step 3: Normalization\n",
    "\n",
    "Normalization scales the gene expression values across cells to account for differences in sequencing depth and allows for meaningful comparisons."
   ]
  },
  {
   "cell_type": "code",
   "execution_count": 49,
   "metadata": {
    "vscode": {
     "languageId": "r"
    }
   },
   "outputs": [
    {
     "name": "stderr",
     "output_type": "stream",
     "text": [
      "Normalizing layer: counts\n",
      "\n",
      "Normalizing layer: counts\n",
      "\n",
      "Normalizing layer: counts\n",
      "\n",
      "Normalizing layer: counts\n",
      "\n"
     ]
    }
   ],
   "source": [
    "# Normalize data for each sample\n",
    "BMMC_D1T1 <- NormalizeData(BMMC_D1T1)\n",
    "BMMC_D1T2 <- NormalizeData(BMMC_D1T2)\n",
    "CD34_D2T1 <- NormalizeData(CD34_D2T1)\n",
    "CD34_D3T1 <- NormalizeData(CD34_D3T1)\n"
   ]
  },
  {
   "cell_type": "markdown",
   "metadata": {},
   "source": [
    "Default Seurat Method: **LogNormalize**, which normalizes gene expression values by the total expression and scales by a factor of 10,000."
   ]
  },
  {
   "cell_type": "markdown",
   "metadata": {},
   "source": [
    "***"
   ]
  },
  {
   "cell_type": "markdown",
   "metadata": {},
   "source": [
    "Step 2: Feature Selection\n",
    "\n",
    "Feature selection identifies highly variable genes, which are often the most informative genes for distinguishing cell types."
   ]
  },
  {
   "cell_type": "code",
   "execution_count": 50,
   "metadata": {
    "vscode": {
     "languageId": "r"
    }
   },
   "outputs": [
    {
     "name": "stderr",
     "output_type": "stream",
     "text": [
      "Finding variable features for layer counts\n",
      "\n",
      "Finding variable features for layer counts\n",
      "\n",
      "Finding variable features for layer counts\n",
      "\n",
      "Finding variable features for layer counts\n",
      "\n"
     ]
    }
   ],
   "source": [
    "# Find variable features\n",
    "BMMC_D1T1 <- FindVariableFeatures(BMMC_D1T1)\n",
    "BMMC_D1T2 <- FindVariableFeatures(BMMC_D1T2)\n",
    "CD34_D2T1 <- FindVariableFeatures(CD34_D2T1)\n",
    "CD34_D3T1 <- FindVariableFeatures(CD34_D3T1)\n"
   ]
  },
  {
   "cell_type": "markdown",
   "metadata": {},
   "source": [
    "**Purpose of Feature Selection:** To focus on genes that provide the most biological signal.\n",
    "\n",
    "**How Features are Selected:** By identifying genes with high variance across cells, which are informative for downstream analysis."
   ]
  },
  {
   "cell_type": "markdown",
   "metadata": {},
   "source": [
    "***"
   ]
  },
  {
   "cell_type": "markdown",
   "metadata": {},
   "source": [
    "### 4.2 Batch-Correction (3P)\n",
    "1. Merge all four samples into one dataset without performing batch correction.\n",
    "2. Merge all four samples into one dataset using Seurat’s Data Integration method as Batch Correction.\n",
    "\n",
    "Compare the outcomes of A and B.\n",
    "\n",
    "Is Batch-Correction necessary? If yes, name the parameters and explain (with the necessary plots) why a correction for this parameter may be necessary."
   ]
  },
  {
   "cell_type": "code",
   "execution_count": 52,
   "metadata": {
    "vscode": {
     "languageId": "r"
    }
   },
   "outputs": [],
   "source": [
    "# A:\n",
    "# Merge the samples without batch correction\n",
    "merged_no_correction <- merge(BMMC_D1T1, y = c(BMMC_D1T2, CD34_D2T1, CD34_D3T1), \n",
    "                              add.cell.ids = c(\"BMMC_D1T1\", \"BMMC_D1T2\", \"CD34_D2T1\", \"CD34_D3T1\"), \n",
    "                              project = \"Merged_No_Correction\")\n"
   ]
  },
  {
   "cell_type": "code",
   "execution_count": 56,
   "metadata": {
    "vscode": {
     "languageId": "r"
    }
   },
   "outputs": [
    {
     "name": "stderr",
     "output_type": "stream",
     "text": [
      "Computing 2000 integration features\n",
      "\n",
      "Scaling features for provided objects\n",
      "\n",
      "Warning message:\n",
      "\"Different features in new layer data than already exists for scale.data\"\n",
      "Finding all pairwise anchors\n",
      "\n",
      "Running CCA\n",
      "\n",
      "Merging objects\n",
      "\n",
      "Finding neighborhoods\n",
      "\n",
      "Finding anchors\n",
      "\n",
      "\tFound 14395 anchors\n",
      "\n",
      "Filtering anchors\n",
      "\n",
      "\tRetained 8772 anchors\n",
      "\n",
      "Running CCA\n",
      "\n",
      "Merging objects\n",
      "\n",
      "Finding neighborhoods\n",
      "\n",
      "Finding anchors\n",
      "\n",
      "\tFound 5046 anchors\n",
      "\n",
      "Filtering anchors\n",
      "\n",
      "\tRetained 2276 anchors\n",
      "\n",
      "Running CCA\n",
      "\n",
      "Merging objects\n",
      "\n",
      "Finding neighborhoods\n",
      "\n",
      "Finding anchors\n",
      "\n",
      "\tFound 5066 anchors\n",
      "\n",
      "Filtering anchors\n",
      "\n",
      "\tRetained 2332 anchors\n",
      "\n",
      "Running CCA\n",
      "\n",
      "Merging objects\n",
      "\n",
      "Finding neighborhoods\n",
      "\n",
      "Finding anchors\n",
      "\n",
      "\tFound 9075 anchors\n",
      "\n",
      "Filtering anchors\n",
      "\n",
      "\tRetained 2460 anchors\n",
      "\n",
      "Running CCA\n",
      "\n",
      "Merging objects\n",
      "\n",
      "Finding neighborhoods\n",
      "\n",
      "Finding anchors\n",
      "\n",
      "\tFound 9093 anchors\n",
      "\n",
      "Filtering anchors\n",
      "\n",
      "\tRetained 2612 anchors\n",
      "\n",
      "Running CCA\n",
      "\n",
      "Merging objects\n",
      "\n",
      "Finding neighborhoods\n",
      "\n",
      "Finding anchors\n",
      "\n",
      "\tFound 5634 anchors\n",
      "\n",
      "Filtering anchors\n",
      "\n",
      "\tRetained 3127 anchors\n",
      "\n",
      "Merging dataset 3 into 4\n",
      "\n",
      "Extracting anchors for merged samples\n",
      "\n",
      "Finding integration vectors\n",
      "\n",
      "Finding integration vector weights\n",
      "\n",
      "Integrating data\n",
      "\n",
      "Warning message:\n",
      "\"Layer counts isn't present in the assay object; returning NULL\"\n",
      "Merging dataset 1 into 2\n",
      "\n",
      "Extracting anchors for merged samples\n",
      "\n",
      "Finding integration vectors\n",
      "\n",
      "Finding integration vector weights\n",
      "\n",
      "Integrating data\n",
      "\n",
      "Warning message:\n",
      "\"Layer counts isn't present in the assay object; returning NULL\"\n",
      "Merging dataset 4 3 into 2 1\n",
      "\n",
      "Extracting anchors for merged samples\n",
      "\n",
      "Finding integration vectors\n",
      "\n",
      "Finding integration vector weights\n",
      "\n",
      "Integrating data\n",
      "\n",
      "Warning message:\n",
      "\"Layer counts isn't present in the assay object; returning NULL\"\n"
     ]
    }
   ],
   "source": [
    "# B:\n",
    "# create a list of Seurat objects to integrate\n",
    "sample_list <- list(BMMC_D1T1, BMMC_D1T2, CD34_D2T1, CD34_D3T1)\n",
    "\n",
    "# Find integration anchors\n",
    "anchors <- FindIntegrationAnchors(object.list = sample_list, dims = 1:20)\n",
    "\n",
    "# Integrate the data using the anchors\n",
    "merged_with_correction <- IntegrateData(anchorset = anchors, dims = 1:20)"
   ]
  },
  {
   "cell_type": "markdown",
   "metadata": {},
   "source": [
    "**Compare the Outcomes:**\n",
    "\n",
    "**Is Batch-Correction necessary? If yes, name the parameters and explain (with the necessary plots) why a correction for this parameter may be necessary.**"
   ]
  },
  {
   "cell_type": "code",
   "execution_count": 57,
   "metadata": {
    "vscode": {
     "languageId": "r"
    }
   },
   "outputs": [
    {
     "name": "stderr",
     "output_type": "stream",
     "text": [
      "Centering and scaling data matrix\n",
      "\n",
      "PC_ 1 \n",
      "Positive:  STMN1, NUCB2, HMGB1, TYMS, TUBA1B, PRSS57, FABP5, DUT, NUCKS1, HSPD1 \n",
      "\t   SPINK2, TUBB, UBB, HIST1H4C, IGFBP7, IGLL1, H2AFZ, ANKRD28, RAN, CYTL1 \n",
      "\t   NCL, HSP90AA1, HMGA1, SOX4, SMC4, CKS1B, DEK, RANBP1, CDK4, NME1 \n",
      "Negative:  ACTB, FCN1, S100A9, S100A11, S100A8, VCAN, S100A10, S100A12, TMSB10, TYROBP \n",
      "\t   COTL1, SH3BGRL3, SLC2A3, JUNB, CYBB, MNDA, TYMP, ITGB2, FCER1G, FGL2 \n",
      "\t   MS4A6A, FGR, CTSS, CFP, FLNA, CD68, MPEG1, PLBD1, CLEC7A, CORO1A \n",
      "PC_ 2 \n",
      "Positive:  LTB, LCK, KLF2, IL7R, CD7, CD69, LAT, BTG1, ZFP36L2, ISG20 \n",
      "\t   JUNB, LEF1, CD2, RBM38, ARL4C, CCR7, CXCR4, MAL, TNFAIP3, CAMK4 \n",
      "\t   CD52, AQP3, SKAP1, BIN1, GIMAP7, CD96, SYNE2, TRAF3IP3, HLA-B, TNFRSF25 \n",
      "Negative:  LYZ, CST3, MNDA, LGALS1, S100A9, S100A8, CSTA, GRN, TYROBP, APLP2 \n",
      "\t   MS4A6A, FCN1, VCAN, CFD, FCER1G, GSTP1, CEBPD, TNFSF13B, RNASE2, PLAUR \n",
      "\t   SPI1, S100A12, LST1, RNF130, KLF4, CYBB, TYMP, SRGN, CD36, RAB32 \n",
      "PC_ 3 \n",
      "Positive:  SPIB, FAM129C, CD79A, VPREB3, CD79B, MZB1, CD74, IRF4, TCL1A, IGLL5 \n",
      "\t   TCF4, PLD4, FCRLA, BLNK, IRF8, HLA-DRA, CCDC50, LILRA4, VPREB1, HLA-DQA1 \n",
      "\t   MME, HLA-DPA1, CD72, HLA-DPB1, IL3RA, CD9, HLA-DQB1, HLA-DMB, BLK, HLA-DMA \n",
      "Negative:  CYTL1, ANXA1, SERPINB1, S100A6, S100A4, SLC40A1, PRSS57, SRGN, ALDH1A1, MLLT3 \n",
      "\t   CNRIP1, GATA2, ITM2A, CREG1, MGST1, FAM117A, KLF1, CRHBP, HBD, ANKRD28 \n",
      "\t   LAPTM4B, TPM1, APOC1, LIMS1, MEST, TIMP1, FHL2, IL1B, BLVRB, SMIM10 \n",
      "PC_ 4 \n",
      "Positive:  HLA-DRA, CD74, HLA-DPB1, CRHBP, HLA-DPA1, AVP, SOX4, SPINK2, HLA-DRB1, HLA-DRB5 \n",
      "\t   CYTL1, EGFL7, BCL11A, HLA-DMA, ANKRD28, TCF4, PCDH9, NRIP1, HLA-DQB1, MZB1 \n",
      "\t   CD34, MSI2, NPR3, HIST1H2BK, HLA-DQA1, ITM2C, ANGPT1, HTR1F, MDK, HOPX \n",
      "Negative:  TOP2A, UBE2C, MKI67, NUSAP1, BIRC5, RRM2, CDK1, CALM1, CCNA2, LCK \n",
      "\t   AURKB, JUNB, CDKN3, ASPM, IL7R, TPX2, DLGAP5, HMMR, CD7, KLF2 \n",
      "\t   LAT, GTSE1, CENPA, TK1, ZWINT, CENPF, ACTB, CENPM, CCNB2, ARL4C \n",
      "PC_ 5 \n",
      "Positive:  HBD, CA1, AHSP, HBB, KLF1, RHAG, ANK1, APOC1, CA2, CNRIP1 \n",
      "\t   HBQ1, GATA1, KCNH2, MYL4, BLVRB, HBA1, SELENBP1, SMIM1, GYPA, ALAS2 \n",
      "\t   HBA2, TFR2, TMEM56, SPTA1, FHL2, APOE, EPCAM, MINPP1, GYPB, HBM \n",
      "Negative:  TMSB4X, MPO, C1QTNF4, SPINK2, VIM, ACTG1, PLAC8, CTSG, ELANE, PRTN3 \n",
      "\t   AZU1, GSTP1, SRGN, ITM2C, MGST1, NUCB2, RAB32, FLT3, MS4A3, PRSS57 \n",
      "\t   ENO1, CST7, SPNS3, HOPX, HSP90B1, CALR, IGFBP7, FABP5, SPARC, CLEC11A \n",
      "\n",
      "23:02:18 UMAP embedding parameters a = 0.9922 b = 1.112\n",
      "\n",
      "23:02:18 Read 18384 rows and found 30 numeric columns\n",
      "\n",
      "23:02:18 Using Annoy for neighbor search, n_neighbors = 30\n",
      "\n",
      "23:02:18 Building Annoy index with metric = cosine, n_trees = 50\n",
      "\n",
      "0%   10   20   30   40   50   60   70   80   90   100%\n",
      "\n",
      "[----|----|----|----|----|----|----|----|----|----|\n",
      "\n",
      "*\n",
      "*\n",
      "*\n",
      "*\n",
      "*\n",
      "*\n",
      "*\n",
      "*\n",
      "*\n",
      "*\n",
      "*\n",
      "*\n",
      "*\n",
      "*\n",
      "*\n",
      "*\n",
      "*\n",
      "*\n",
      "*\n",
      "*\n",
      "*\n",
      "*\n",
      "*\n",
      "*\n",
      "*\n",
      "*\n",
      "*\n",
      "*\n",
      "*\n",
      "*\n",
      "*\n",
      "*\n",
      "*\n",
      "*\n",
      "*\n",
      "*\n",
      "*\n",
      "*\n",
      "*\n",
      "*\n",
      "*\n",
      "*\n",
      "*\n",
      "*\n",
      "*\n",
      "*\n",
      "*\n",
      "*\n",
      "*\n",
      "*\n",
      "|\n",
      "\n",
      "23:02:21 Writing NN index file to temp file /var/folders/rv/whttr0rs0h71ygvlwqb00mt00000gp/T//RtmpJUXUQ8/filee8947878184d\n",
      "\n",
      "23:02:21 Searching Annoy index using 1 thread, search_k = 3000\n",
      "\n",
      "23:02:25 Annoy recall = 100%\n",
      "\n",
      "23:02:31 Commencing smooth kNN distance calibration using 1 thread\n",
      " with target n_neighbors = 30\n",
      "\n",
      "23:02:32 Initializing from normalized Laplacian + noise (using RSpectra)\n",
      "\n",
      "23:02:33 Commencing optimization for 200 epochs, with 785784 positive edges\n",
      "\n",
      "23:02:39 Optimization finished\n",
      "\n",
      "Centering and scaling data matrix\n",
      "\n",
      "PC_ 1 \n",
      "Positive:  CD3E, LTB, CD3D, LCK, IL7R, IL32, KLF2, CD7, CD69, ZFP36L2 \n",
      "\t   CD3G, HSPA8, TCF7, LAT, ISG20, RBM38, PTMA, LEF1, CD27, GYPC \n",
      "\t   RHOH, SPOCK2, CD247, IFITM1, CD2, CD81, CXCR4, CD6, CCR7, BCL11B \n",
      "Negative:  S100A9, S100A8, LYZ, FCN1, VCAN, MNDA, CST3, TYROBP, S100A12, MS4A6A \n",
      "\t   CD14, GRN, FCER1G, CSTA, CYBB, LGALS1, S100A11, SERPINA1, PLAUR, TYMP \n",
      "\t   CEBPD, MPEG1, CD68, SPI1, PLBD1, FGL2, CFD, CFP, CTSS, PSAP \n",
      "PC_ 2 \n",
      "Positive:  JUNB, TMSB4X, CD3E, CD3D, IL32, CD52, LCK, KLF2, CD7, LTB \n",
      "\t   CD3G, IL7R, TMSB10, LAT, CD48, ARL4C, HCST, CD27, TNFAIP3, TCF7 \n",
      "\t   S100A10, CD247, CD2, ITGB2, SPOCK2, CORO1A, IFITM1, TXNIP, MYL12A, BCL11B \n",
      "Negative:  STMN1, TUBB, TUBA1B, MYBL2, TYMS, HMGB1, BIRC5, RRM2, TOP2A, YBX3 \n",
      "\t   SOX4, MCM7, IGLL1, MYL4, NUSAP1, MKI67, AHSP, UBE2C, HMGN2, CA1 \n",
      "\t   MZB1, HBA1, SPIB, HLA-DRA, ALAS2, CDK1, CCNB2, GYPA, H2AFZ, PTTG1 \n",
      "PC_ 3 \n",
      "Positive:  AHSP, ALAS2, CA1, GYPA, RHAG, HBM, HBA1, TMEM56, GYPB, SELENBP1 \n",
      "\t   HBB, HBD, HBA2, SLC4A1, RHCE, CA2, SLC6A8, OSBP2, ATP1B2, TSPO2 \n",
      "\t   KLF1, HBQ1, ANK1, BLVRB, AQP1, KCNH2, CTSE, SOX6, MINPP1, HMBS \n",
      "Negative:  SPIB, CD74, FAM129C, IRF4, MZB1, HLA-DRA, HLA-DPA1, LILRA4, TCF4, DNASE1L3 \n",
      "\t   HLA-DQA1, SERPINF1, HLA-DRB5, TCL1A, HLA-DPB1, CD79A, HLA-DQB1, HLA-DRB1, IL3RA, PLD4 \n",
      "\t   SMPD3, CCDC50, ITM2C, SCT, IGLL5, CLEC4C, BLK, IRF8, ABHD15, HLA-DMA \n",
      "PC_ 4 \n",
      "Positive:  LILRA4, SMPD3, GZMB, SCT, PTPRS, CLEC4C, PTCRA, CLIC3, IL3RA, SERPINF1 \n",
      "\t   ZFAT, SHD, PACSIN1, GAS6, UGCG, TPM2, ASIP, KRT5, SMIM5, IRF7 \n",
      "\t   SCAMP5, LINC00996, LGMN, CIB2, LILRB4, SLC15A4, DERL3, IRF8, DNASE1L3, C12orf75 \n",
      "Negative:  CD79B, VPREB3, CD79A, VPREB1, IGLL5, CD9, MME, CD19, POU2AF1, IGLL1 \n",
      "\t   EBF1, TCL1A, CD72, PAX5, YBX3, NEIL1, DTX1, RCSD1, ARPP21, BACH2 \n",
      "\t   APBB2, PTMA, RAG2, HRK, AKAP12, SSBP2, P4HA2, LAT2, LAPTM5, DNTT \n",
      "PC_ 5 \n",
      "Positive:  ALAS2, GYPA, HBM, GYPB, AHSP, RHAG, SELENBP1, SLC4A1, RHCE, CA1 \n",
      "\t   FTH1, TMEM56, HBA1, TSPO2, HBA2, HBD, CA2, OSBP2, MYL4, SLC6A8 \n",
      "\t   EPB42, CTSE, ATP1B2, HBB, SOX6, TRIM10, AQP1, SPTA1, NCF1, GYPE \n",
      "Negative:  MPO, AZU1, CTSG, PRSS57, ELANE, PRTN3, MS4A3, CLEC11A, CST7, RNASE3 \n",
      "\t   SRGN, RNASE2, ENO1, NKG7, NUCB2, ACTG1, SERPINB1, GAPDH, ATP8B4, C1QTNF4 \n",
      "\t   CALR, COL23A1, RAB32, ANKRD28, MTRNR2L8, HSP90B1, PLAC8, HSPB1, P4HB, SPINK2 \n",
      "\n",
      "23:02:54 UMAP embedding parameters a = 0.9922 b = 1.112\n",
      "\n",
      "23:02:54 Read 18384 rows and found 30 numeric columns\n",
      "\n",
      "23:02:54 Using Annoy for neighbor search, n_neighbors = 30\n",
      "\n",
      "23:02:54 Building Annoy index with metric = cosine, n_trees = 50\n",
      "\n",
      "0%   10   20   30   40   50   60   70   80   90   100%\n",
      "\n",
      "[----|----|----|----|----|----|----|----|----|----|\n",
      "\n",
      "*\n",
      "*\n",
      "*\n",
      "*\n",
      "*\n",
      "*\n",
      "*\n",
      "*\n",
      "*\n",
      "*\n",
      "*\n",
      "*\n",
      "*\n",
      "*\n",
      "*\n",
      "*\n",
      "*\n",
      "*\n",
      "*\n",
      "*\n",
      "*\n",
      "*\n",
      "*\n",
      "*\n",
      "*\n",
      "*\n",
      "*\n",
      "*\n",
      "*\n",
      "*\n",
      "*\n",
      "*\n",
      "*\n",
      "*\n",
      "*\n",
      "*\n",
      "*\n",
      "*\n",
      "*\n",
      "*\n",
      "*\n",
      "*\n",
      "*\n",
      "*\n",
      "*\n",
      "*\n",
      "*\n",
      "*\n",
      "*\n",
      "*\n",
      "|\n",
      "\n",
      "23:02:56 Writing NN index file to temp file /var/folders/rv/whttr0rs0h71ygvlwqb00mt00000gp/T//RtmpJUXUQ8/filee8941483a505\n",
      "\n",
      "23:02:56 Searching Annoy index using 1 thread, search_k = 3000\n",
      "\n",
      "23:02:59 Annoy recall = 100%\n",
      "\n",
      "23:03:00 Commencing smooth kNN distance calibration using 1 thread\n",
      " with target n_neighbors = 30\n",
      "\n",
      "23:03:01 Initializing from normalized Laplacian + noise (using RSpectra)\n",
      "\n",
      "23:03:01 Commencing optimization for 200 epochs, with 802946 positive edges\n",
      "\n",
      "23:03:07 Optimization finished\n",
      "\n"
     ]
    }
   ],
   "source": [
    "# Perform PCA and UMAP on the non-corrected merged object\n",
    "merged_no_correction <- ScaleData(merged_no_correction)\n",
    "merged_no_correction <- RunPCA(merged_no_correction)\n",
    "merged_no_correction <- RunUMAP(merged_no_correction, dims = 1:30)\n",
    "\n",
    "# Perform PCA and UMAP on the batch-corrected merged object\n",
    "merged_with_correction <- ScaleData(merged_with_correction)\n",
    "merged_with_correction <- RunPCA(merged_with_correction)\n",
    "merged_with_correction <- RunUMAP(merged_with_correction, dims = 1:30)"
   ]
  },
  {
   "cell_type": "code",
   "execution_count": 58,
   "metadata": {
    "vscode": {
     "languageId": "r"
    }
   },
   "outputs": [
    {
     "ename": "ERROR",
     "evalue": "Error in DimPlot(merged_no_correction, reduction = \"umap\", group.by = \"orig.ident\", : unused argument (title = \"Without Batch Correction\")\n",
     "output_type": "error",
     "traceback": [
      "Error in DimPlot(merged_no_correction, reduction = \"umap\", group.by = \"orig.ident\", : unused argument (title = \"Without Batch Correction\")\nTraceback:\n"
     ]
    }
   ],
   "source": [
    "# Plot UMAP for non-corrected data\n",
    "DimPlot(merged_no_correction, reduction = \"umap\", group.by = \"orig.ident\", title = \"Without Batch Correction\")\n",
    "\n",
    "# Plot UMAP for batch-corrected data\n",
    "DimPlot(merged_with_correction, reduction = \"umap\", group.by = \"orig.ident\", title = \"With Batch Correction\")\n"
   ]
  }
 ],
 "metadata": {
  "kernelspec": {
   "display_name": "single-cell",
   "language": "R",
   "name": "single-cell"
  },
  "language_info": {
   "codemirror_mode": "r",
   "file_extension": ".r",
   "mimetype": "text/x-r-source",
   "name": "R",
   "pygments_lexer": "r",
   "version": "4.4.2"
  }
 },
 "nbformat": 4,
 "nbformat_minor": 2
}
