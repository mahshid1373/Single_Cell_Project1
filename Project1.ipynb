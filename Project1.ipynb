{
 "cells": [
  {
   "cell_type": "markdown",
   "metadata": {},
   "source": [
    "## Introduction to Seurat:\n",
    "In the project, you will predominantly use Seurat, an R package that combines many functionalities for the\n",
    "analysis of single-cell data. For the initial steps, you can find helpful documentation here. They will be explicitly\n",
    "mentioned if other packages are required for specific tasks.\n",
    "\n",
    "Before you start programming, you should set up the system as follows:"
   ]
  },
  {
   "cell_type": "markdown",
   "metadata": {},
   "source": [
    "## System-setup:\n",
    "1. Install Conda\n",
    "\n",
    "2. Install all packages using the provided environment.yml file. [Mac users: delete singleR line from the\n",
    ".yml file before running the following command]\n",
    "conda env create -f environment.yml\n",
    "\n",
    "3. Start the conda environment with:\n",
    "conda activate single-cell\n",
    "\n",
    "4. Install CellChat by starting R and install CellChat using devtools\n",
    "devtools::install_github(\"sqjinCellChat\")\n",
    "\n",
    "If you are using a Mac, delete the line for singleR from environment.yml file and manually install\n",
    "SingleR using the following commands in R:\n",
    "\n",
    "```R \n",
    "if (!require(\"BiocManager\", quietly = TRUE))\n",
    "\n",
    "install.packages(\"BiocManager\")\n",
    "\n",
    "BiocManager::install(\"SingleR\")\n",
    "```\n",
    "\n",
    "\n",
    "5. If you have problems with Seurat’s clustering functions, please try to downgrade Matrix and spatstat.core\n",
    "packages.\n",
    "\n",
    "`remove.packages(grep(\"spatstat\", installed.packages(), value = T))`\n",
    "\n",
    "`devtools::install_version(\"spatstat\", version = \"2.4.4\")`\n",
    "\n",
    "`install.packages(\"Matrix\", \".\", type = \"source\", repos = \"http://R-Forge.R-p6.`\n",
    "\n",
    " Test if you have installed all necessary libraries:\n",
    "\n",
    "```R \n",
    "suppressPackageStartupMessages({\n",
    "library(dplyr)\n",
    "library(spatstat.core)\n",
    "library(Seurat)\n",
    "library(patchwork)\n",
    "library(DoubletFinder)\n",
    "library(SingleR)\n",
    "library(enrichR)\n",
    "library(CellChat)\n",
    "library(SingleCellExperiment)\n",
    "library(SeuratWrappers)\n",
    "library(tidyverse)\n",
    "library(monocle3)\n",
    "library(celldex)\n",
    "})\n",
    "```"
   ]
  },
  {
   "cell_type": "code",
   "execution_count": 18,
   "metadata": {
    "vscode": {
     "languageId": "r"
    }
   },
   "outputs": [],
   "source": [
    "library(dplyr)\n",
    "# library(spatstat.core)\n",
    "library(Seurat)\n",
    "library(patchwork)\n",
    "library(DoubletFinder)\n",
    "library(SingleR)\n",
    "# library(enrichR)\n",
    "library(CellChat)\n",
    "library(SingleCellExperiment)\n",
    "library(SeuratWrappers)\n",
    "library(tidyverse)\n",
    "# library(monocle3)\n",
    "# library(celldex)"
   ]
  },
  {
   "cell_type": "markdown",
   "metadata": {},
   "source": [
    "## Download the data:\n",
    "You can download the dataset for this project under the following link: [https://icbb-share.s3.eucentral-1.amazonaws.com/single-cell-bioinformatics/scbi_ds1.zip](https://icbb-share.s3.eu-central-1.amazonaws.com/single-cell-bioinformatics/scbi_ds1.zip) The file contains the data of four samples:\n",
    "BMMC_D1T1, BMMC_D1T2, CD34_D2T1 and CD34_D3T1, with separate expression matrices for each sample."
   ]
  },
  {
   "cell_type": "markdown",
   "metadata": {},
   "source": [
    "## Week 1: (5 Points)\n",
    "### 1 Loading the Data (1P)\n",
    "Load the expression matrices from the dataset and construct a Seurat object. You will need to load two files: one\n",
    "containing data on Bone Marrow Mononuclear Cells (BMMC) and the other on CD34+ Enriched Bone Marrow\n",
    "Cells (CD34)."
   ]
  },
  {
   "cell_type": "code",
   "execution_count": 30,
   "metadata": {
    "vscode": {
     "languageId": "r"
    }
   },
   "outputs": [],
   "source": [
    "# Load the data on Bone Marrow Mononuclear Cells (BMMC) Cells\n",
    "BMMC_D1T1 <- readRDS(\"scbi_ds1/GSM4138872_scRNA_BMMC_D1T1.rds\")\n",
    "BMMC_D1T2 <- readRDS(\"scbi_ds1/GSM4138873_scRNA_BMMC_D1T2.rds\")\n",
    "# Load the data on CD34+ Cells\n",
    "CD34_D2T1 <- readRDS(\"scbi_ds1/GSM4138874_scRNA_CD34_D2T1.rds\")\n",
    "CD34_D3T1 <- readRDS(\"scbi_ds1/GSM4138875_scRNA_CD34_D3T1.rds\")\n"
   ]
  },
  {
   "cell_type": "code",
   "execution_count": 31,
   "metadata": {
    "vscode": {
     "languageId": "r"
    }
   },
   "outputs": [],
   "source": [
    "# Create Seurat objects for each sample\n",
    "BMMC_D1T1 <- CreateSeuratObject(BMMC_D1T1, project = \"BMMC_D1T1\")\n",
    "BMMC_D1T2 <- CreateSeuratObject(BMMC_D1T2, project = \"BMMC_D1T2\")\n",
    "CD34_D2T1 <- CreateSeuratObject(CD34_D2T1, project = \"CD34_D2T1\")\n",
    "CD34_D3T1 <- CreateSeuratObject(CD34_D3T1, project = \"CD34_D3T1\")"
   ]
  },
  {
   "cell_type": "markdown",
   "metadata": {},
   "source": [
    "I create a metadata data frame based on the \"Table 1\"."
   ]
  },
  {
   "cell_type": "code",
   "execution_count": 33,
   "metadata": {
    "vscode": {
     "languageId": "r"
    }
   },
   "outputs": [
    {
     "data": {
      "text/html": [
       "<table class=\"dataframe\">\n",
       "<caption>A data.frame: 4 x 4</caption>\n",
       "<thead>\n",
       "\t<tr><th scope=col>Sample</th><th scope=col>Donor</th><th scope=col>Replicate</th><th scope=col>Sex</th></tr>\n",
       "\t<tr><th scope=col>&lt;chr&gt;</th><th scope=col>&lt;chr&gt;</th><th scope=col>&lt;chr&gt;</th><th scope=col>&lt;chr&gt;</th></tr>\n",
       "</thead>\n",
       "<tbody>\n",
       "\t<tr><td>BMMC_D1T1</td><td>D1</td><td>T1</td><td>F</td></tr>\n",
       "\t<tr><td>BMMC_D1T2</td><td>D1</td><td>T2</td><td>F</td></tr>\n",
       "\t<tr><td>CD34_D2T1</td><td>D2</td><td>T1</td><td>M</td></tr>\n",
       "\t<tr><td>CD34_D3T1</td><td>D3</td><td>T1</td><td>F</td></tr>\n",
       "</tbody>\n",
       "</table>\n"
      ],
      "text/latex": [
       "A data.frame: 4 x 4\n",
       "\\begin{tabular}{llll}\n",
       " Sample & Donor & Replicate & Sex\\\\\n",
       " <chr> & <chr> & <chr> & <chr>\\\\\n",
       "\\hline\n",
       "\t BMMC\\_D1T1 & D1 & T1 & F\\\\\n",
       "\t BMMC\\_D1T2 & D1 & T2 & F\\\\\n",
       "\t CD34\\_D2T1 & D2 & T1 & M\\\\\n",
       "\t CD34\\_D3T1 & D3 & T1 & F\\\\\n",
       "\\end{tabular}\n"
      ],
      "text/markdown": [
       "\n",
       "A data.frame: 4 x 4\n",
       "\n",
       "| Sample &lt;chr&gt; | Donor &lt;chr&gt; | Replicate &lt;chr&gt; | Sex &lt;chr&gt; |\n",
       "|---|---|---|---|\n",
       "| BMMC_D1T1 | D1 | T1 | F |\n",
       "| BMMC_D1T2 | D1 | T2 | F |\n",
       "| CD34_D2T1 | D2 | T1 | M |\n",
       "| CD34_D3T1 | D3 | T1 | F |\n",
       "\n"
      ],
      "text/plain": [
       "  Sample    Donor Replicate Sex\n",
       "1 BMMC_D1T1 D1    T1        F  \n",
       "2 BMMC_D1T2 D1    T2        F  \n",
       "3 CD34_D2T1 D2    T1        M  \n",
       "4 CD34_D3T1 D3    T1        F  "
      ]
     },
     "metadata": {},
     "output_type": "display_data"
    }
   ],
   "source": [
    "# Create metadata dataframe\n",
    "metadata <- data.frame(\n",
    "  Sample = c(\"BMMC_D1T1\", \"BMMC_D1T2\", \"CD34_D2T1\", \"CD34_D3T1\"),\n",
    "  Donor = c(\"D1\", \"D1\", \"D2\", \"D3\"),\n",
    "  Replicate = c(\"T1\", \"T2\", \"T1\", \"T1\"),\n",
    "  Sex = c(\"F\", \"F\", \"M\", \"F\")\n",
    ")\n",
    "\n",
    "metadata\n"
   ]
  },
  {
   "cell_type": "markdown",
   "metadata": {},
   "source": [
    "### 2 Create the sample sheet (1P)\n",
    "Question: Label each sample with the corresponding metadata from Table 1."
   ]
  },
  {
   "cell_type": "markdown",
   "metadata": {},
   "source": [
    "I add the metadata information for each sample to the respective Seurat object."
   ]
  },
  {
   "cell_type": "code",
   "execution_count": 34,
   "metadata": {
    "vscode": {
     "languageId": "r"
    }
   },
   "outputs": [],
   "source": [
    "# Add metadata to each Seurat object\n",
    "BMMC_D1T1$Donor <- \"D1\"\n",
    "BMMC_D1T1$Replicate <- \"T1\"\n",
    "BMMC_D1T1$Sex <- \"F\"\n",
    "\n",
    "BMMC_D1T2$Donor <- \"D1\"\n",
    "BMMC_D1T2$Replicate <- \"T2\"\n",
    "BMMC_D1T2$Sex <- \"F\"\n",
    "\n",
    "CD34_D2T1$Donor <- \"D2\"\n",
    "CD34_D2T1$Replicate <- \"T1\"\n",
    "CD34_D2T1$Sex <- \"M\"\n",
    "\n",
    "CD34_D3T1$Donor <- \"D3\"\n",
    "CD34_D3T1$Replicate <- \"T1\"\n",
    "CD34_D3T1$Sex <- \"F\"\n"
   ]
  },
  {
   "cell_type": "markdown",
   "metadata": {},
   "source": [
    "### Add Meta-data (3P)\n",
    "For each sample report the following information:\n",
    "1. How many cells are in each sample?\n",
    "2. How many genes are in the expression matrices?\n",
    "3. What information is now part of the meta-data of the objects?"
   ]
  }
 ],
 "metadata": {
  "kernelspec": {
   "display_name": "single-cell",
   "language": "R",
   "name": "single-cell"
  },
  "language_info": {
   "codemirror_mode": "r",
   "file_extension": ".r",
   "mimetype": "text/x-r-source",
   "name": "R",
   "pygments_lexer": "r",
   "version": "4.4.2"
  }
 },
 "nbformat": 4,
 "nbformat_minor": 2
}
